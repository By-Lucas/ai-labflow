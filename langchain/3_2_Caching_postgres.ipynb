{
 "cells": [
  {
   "cell_type": "markdown",
   "metadata": {},
   "source": [
    "# Setup"
   ]
  },
  {
   "cell_type": "code",
   "execution_count": 1,
   "metadata": {},
   "outputs": [
    {
     "name": "stdout",
     "output_type": "stream",
     "text": [
      "Requirement already satisfied: psycopg2 in /home/lucas/Área de trabalho/TK Global Technology/Cursos AI/3 Formacao 2025/.venv/lib/python3.11/site-packages (2.9.10)\n",
      "Note: you may need to restart the kernel to use updated packages.\n"
     ]
    }
   ],
   "source": [
    "%pip install psycopg2"
   ]
  },
  {
   "cell_type": "code",
   "execution_count": 2,
   "metadata": {
    "editable": true,
    "id": "6eGKcwYtdWVu",
    "slideshow": {
     "slide_type": ""
    },
    "tags": []
   },
   "outputs": [],
   "source": [
    "import os\n",
    "import yaml\n",
    "import psycopg2\n",
    "from datetime import datetime\n",
    "from psycopg2.extras import Json\n",
    "\n",
    "from langchain_openai import OpenAI\n",
    "from langchain.globals import set_llm_cache\n",
    "from langchain_core.caches import BaseCache"
   ]
  },
  {
   "cell_type": "code",
   "execution_count": 3,
   "metadata": {
    "id": "NEg_0v_VpqeA"
   },
   "outputs": [],
   "source": [
    "with open('config.yaml', 'r') as config_file:\n",
    "    config = yaml.safe_load(config_file)\n",
    "os.environ['OPENAI_API_KEY'] = config['OPENAI_API_KEY']"
   ]
  },
  {
   "cell_type": "code",
   "execution_count": null,
   "metadata": {},
   "outputs": [],
   "source": [
    "openai = OpenAI(model_name='gpt-3.5-turbo-instruct')\n",
    "\n",
    "# Se der o erro (Error with OpenAI 1.56.0 - Client.__init__() got an unexpected keyword argument ‘proxies’) ao tentar executar o OpenAI, você reinstalar\n",
    "# pip install openai==1.55.3 httpx==0.27.2"
   ]
  },
  {
   "cell_type": "markdown",
   "metadata": {},
   "source": [
    "# Personalizado + Postgres"
   ]
  },
  {
   "cell_type": "code",
   "execution_count": 5,
   "metadata": {},
   "outputs": [],
   "source": [
    "class PostgresCache(BaseCache):\n",
    "    def __init__(self, conn):\n",
    "        self.conn = conn\n",
    "        self._ensure_table()\n",
    "\n",
    "    def _ensure_table(self):\n",
    "        with self.conn.cursor() as cur:\n",
    "            cur.execute(\"\"\"\n",
    "                CREATE TABLE IF NOT EXISTS llm_cache (\n",
    "                    key TEXT PRIMARY KEY,\n",
    "                    value JSONB NOT NULL,\n",
    "                    llm_string TEXT,\n",
    "                    created_at TIMESTAMP DEFAULT NOW()\n",
    "                );\n",
    "            \"\"\")\n",
    "            self.conn.commit()\n",
    "\n",
    "    def _get_cache_key(self, prompt, llm_string):\n",
    "        return f\"{prompt}|||{llm_string}\"\n",
    "\n",
    "    def lookup(self, prompt, llm_string=None):\n",
    "        key = self._get_cache_key(prompt, llm_string)\n",
    "        with self.conn.cursor() as cur:\n",
    "            cur.execute(\"SELECT value FROM llm_cache WHERE key = %s;\", (key,))\n",
    "            result = cur.fetchone()\n",
    "            if result:\n",
    "                return result[0]  # deve ser uma lista de Generation-like\n",
    "            return None\n",
    "\n",
    "    def update(self, prompt, llm_string, return_val):\n",
    "        key = self._get_cache_key(prompt, llm_string)\n",
    "\n",
    "        # O LangChain envia uma lista de Generation (mesmo para 1 resultado)\n",
    "        try:\n",
    "            generations = [g.text if hasattr(g, \"text\") else str(g) for g in return_val]\n",
    "        except Exception as e:\n",
    "            print(\"❌ Erro ao processar return_val:\", e)\n",
    "            generations = [str(return_val)]\n",
    "\n",
    "        value = [{\"text\": g} for g in generations]\n",
    "\n",
    "        with self.conn.cursor() as cur:\n",
    "            cur.execute(\"\"\"\n",
    "                INSERT INTO llm_cache (key, value, llm_string, created_at)\n",
    "                VALUES (%s, %s, %s, %s)\n",
    "                ON CONFLICT (key) DO UPDATE\n",
    "                SET value = EXCLUDED.value,\n",
    "                    llm_string = EXCLUDED.llm_string,\n",
    "                    created_at = EXCLUDED.created_at;\n",
    "            \"\"\", (key, Json(value), llm_string, datetime.utcnow()))\n",
    "            self.conn.commit()\n",
    "\n",
    "    def clear(self, **kwargs):\n",
    "        with self.conn.cursor() as cur:\n",
    "            cur.execute(\"DELETE FROM llm_cache;\")\n",
    "            self.conn.commit()\n"
   ]
  },
  {
   "cell_type": "code",
   "execution_count": 6,
   "metadata": {},
   "outputs": [],
   "source": [
    "conn = psycopg2.connect(\n",
    "    dbname=\"postgres\",\n",
    "    user=\"postgres\",\n",
    "    password=\"123\",\n",
    "    host=\"localhost\",\n",
    "    port=5432\n",
    ")\n",
    "\n",
    "cache = PostgresCache(conn)\n",
    "set_llm_cache(cache)\n",
    "prompt = 'Me diga em poucas palavras quem foi Neil Kal Marx 2.'"
   ]
  },
  {
   "cell_type": "code",
   "execution_count": 7,
   "metadata": {},
   "outputs": [],
   "source": [
    "def invoke_with_cache_postgres(llm, prompt, cache):\n",
    "    cached_response = cache.lookup(prompt, \"\")\n",
    "    if cached_response:\n",
    "        print(\"Usando cache:\")\n",
    "        return cached_response\n",
    "\n",
    "    response = llm.invoke(prompt)\n",
    "\n",
    "    # EXTRAI SEMPRE o texto, mesmo que seja um objeto Generation ou outro\n",
    "    response_text = getattr(response, \"text\", str(response))\n",
    "\n",
    "    # GARANTE que o que será salvo no banco é sempre JSON-compatível\n",
    "    cache.update(prompt, response_text, \"\")\n",
    "    return response_text\n"
   ]
  },
  {
   "cell_type": "code",
   "execution_count": 8,
   "metadata": {},
   "outputs": [
    {
     "name": "stdout",
     "output_type": "stream",
     "text": [
      "Primeira resposta (API chamada):   Neil Kal Marx foi um filósofo, economista e sociólogo alemão, considerado um dos fundadores do socialismo científico e do comunismo moderno. Suas ideias influenciaram profundamente diversos movimentos políticos e sociais ao redor do mundo. Ele acreditava em uma sociedade igualitária, sem classes sociais e com o controle dos meios de produção nas mãos dos trabalhadores. Seu pensamento revolucionário teve impacto significativo na história do século XX e ainda é objeto de estudo e debate na atualidade. \n"
     ]
    }
   ],
   "source": [
    "response1 = invoke_with_cache_postgres(openai, prompt, cache)\n",
    "response_text1 = response1.replace('\\n', ' ') \n",
    "\n",
    "print(\"Primeira resposta (API chamada):\", response_text1)"
   ]
  },
  {
   "cell_type": "code",
   "execution_count": 9,
   "metadata": {},
   "outputs": [
    {
     "name": "stdout",
     "output_type": "stream",
     "text": [
      "Segunda resposta (usando cache):   Neil Kal Marx foi um filósofo, economista e sociólogo alemão, considerado um dos fundadores do socialismo científico e do comunismo moderno. Suas ideias influenciaram profundamente diversos movimentos políticos e sociais ao redor do mundo. Ele acreditava em uma sociedade igualitária, sem classes sociais e com o controle dos meios de produção nas mãos dos trabalhadores. Seu pensamento revolucionário teve impacto significativo na história do século XX e ainda é objeto de estudo e debate na atualidade. \n"
     ]
    }
   ],
   "source": [
    "response2 = invoke_with_cache_postgres(openai, prompt, cache)\n",
    "response_text2 = response2.replace('\\n', ' ')  \n",
    "\n",
    "print(\"Segunda resposta (usando cache):\", response_text2)"
   ]
  }
 ],
 "metadata": {
  "colab": {
   "provenance": []
  },
  "kernelspec": {
   "display_name": ".venv",
   "language": "python",
   "name": "python3"
  },
  "language_info": {
   "codemirror_mode": {
    "name": "ipython",
    "version": 3
   },
   "file_extension": ".py",
   "mimetype": "text/x-python",
   "name": "python",
   "nbconvert_exporter": "python",
   "pygments_lexer": "ipython3",
   "version": "3.11.9"
  }
 },
 "nbformat": 4,
 "nbformat_minor": 4
}
