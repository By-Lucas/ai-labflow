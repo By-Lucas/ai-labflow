{
 "cells": [
  {
   "cell_type": "markdown",
   "metadata": {
    "editable": true,
    "slideshow": {
     "slide_type": ""
    },
    "tags": []
   },
   "source": [
    "# Setup"
   ]
  },
  {
   "cell_type": "code",
   "execution_count": 1,
   "metadata": {
    "editable": true,
    "id": "vOISp5PYq4qi",
    "slideshow": {
     "slide_type": ""
    },
    "tags": []
   },
   "outputs": [],
   "source": [
    "from langchain_openai import OpenAI\n",
    "from langchain.prompts import PromptTemplate\n",
    "from langchain_core.output_parsers import StrOutputParser\n",
    "import yaml\n",
    "import os"
   ]
  },
  {
   "cell_type": "code",
   "execution_count": 2,
   "metadata": {},
   "outputs": [],
   "source": [
    "with open('config.yaml', 'r') as config_file:\n",
    "    config = yaml.safe_load(config_file)\n",
    "os.environ['OPENAI_API_KEY'] = config['OPENAI_API_KEY']"
   ]
  },
  {
   "cell_type": "code",
   "execution_count": 3,
   "metadata": {},
   "outputs": [],
   "source": [
    "openai = OpenAI(model_name='gpt-3.5-turbo-instruct', temperature=0)"
   ]
  },
  {
   "cell_type": "markdown",
   "metadata": {},
   "source": [
    "# RouterChain"
   ]
  },
  {
   "cell_type": "code",
   "execution_count": 4,
   "metadata": {},
   "outputs": [],
   "source": [
    "# ela inicial (classificação)\n",
    "chain = (\n",
    "    PromptTemplate.from_template(\n",
    "        \"\"\"\n",
    "        Classifique a pergunta do usuário em uma das seguintes categorias:\n",
    "        - Assuntos Financeiros\n",
    "        - Suporte Técnico\n",
    "        - Atualização de Cadastro\n",
    "        - Outras Informações\n",
    "\n",
    "        Pergunta: {query}\n",
    "        Classificação:\n",
    "        \"\"\"\n",
    "    )\n",
    "    | openai\n",
    "    | StrOutputParser() \n",
    ")"
   ]
  },
  {
   "cell_type": "code",
   "execution_count": 5,
   "metadata": {},
   "outputs": [
    {
     "name": "stdout",
     "output_type": "stream",
     "text": [
      "first=PromptTemplate(input_variables=['query'], template='\\n        Classifique a pergunta do usuário em uma das seguintes categorias:\\n        - Assuntos Financeiros\\n        - Suporte Técnico\\n        - Atualização de Cadastro\\n        - Outras Informações\\n\\n        Pergunta: {query}\\n        Classificação:\\n        ') middle=[OpenAI(client=<openai.resources.completions.Completions object at 0x72d0feebb950>, async_client=<openai.resources.completions.AsyncCompletions object at 0x72d0feed0190>, temperature=0.0, openai_api_key=SecretStr('**********'), openai_proxy='')] last=StrOutputParser()\n"
     ]
    }
   ],
   "source": [
    "print(chain)"
   ]
  },
  {
   "cell_type": "code",
   "execution_count": 6,
   "metadata": {},
   "outputs": [],
   "source": [
    "# elos específicos\n",
    "financial_chain = PromptTemplate.from_template(\n",
    "    \"\"\"\n",
    "    Você é um especialista financeiro.\n",
    "    Sempre responda às perguntas começando com \"Bem-vindo ao Suporte Financeiro\".\n",
    "    Responda à pergunta do usuário:\n",
    "    Pergunta: {query}\n",
    "    Resposta:\n",
    "    \"\"\"\n",
    ") | openai\n",
    "tech_support_chain = PromptTemplate.from_template(\n",
    "    \"\"\"\n",
    "    Você é um especialista em suporte técnico.\n",
    "    Sempre responda às perguntas começando com \"Bem-vindo ao Suporte Técnico\".\n",
    "    Ajude o usuário com seu problema técnico.\n",
    "    Pergunta: {query}\n",
    "    Resposta:\n",
    "    \"\"\"\n",
    ") | openai\n",
    "update_registration_chain = PromptTemplate.from_template(\n",
    "    \"\"\"\n",
    "    Você é um representante de atendimento ao cliente.\n",
    "    Sempre responda às perguntas começando com \"Bem-vindo ao Suporte de Cadastro\".\n",
    "    Guie o usuário na atualização de suas informações de cadastro.\n",
    "    Pergunta: {query}\n",
    "    Resposta:\n",
    "    \"\"\"\n",
    ") | openai\n",
    "other_info_chain = PromptTemplate.from_template(\n",
    "    \"\"\"\n",
    "    Você é um assistente de informações gerais.\n",
    "    Sempre responda às perguntas começando com \"Bem-vindo ao Suporte Geral\".\n",
    "    Forneça informações ao usuário sobre sua pergunta.\n",
    "    Pergunta: {query}\n",
    "    Resposta:\n",
    "    \"\"\"\n",
    ") | openai"
   ]
  },
  {
   "cell_type": "code",
   "execution_count": 7,
   "metadata": {},
   "outputs": [],
   "source": [
    "# Função de roteamento\n",
    "def route(info):\n",
    "    topic = info[\"topic\"].lower()\n",
    "    if \"financeiro\" in topic:\n",
    "        return financial_chain\n",
    "    elif \"técnico\" in topic:\n",
    "        return tech_support_chain\n",
    "    elif \"atualização\" in topic or \"cadastro\" in topic:\n",
    "        return update_registration_chain\n",
    "    else:\n",
    "        return other_info_chain"
   ]
  },
  {
   "cell_type": "code",
   "execution_count": 8,
   "metadata": {},
   "outputs": [
    {
     "name": "stdout",
     "output_type": "stream",
     "text": [
      " Suporte Técnico\n"
     ]
    }
   ],
   "source": [
    "# Exemplos 1 suporte técnico\n",
    "classification = chain.invoke({\"query\": \"Como faço para redefinir minha senha?\"})\n",
    "print(classification)"
   ]
  },
  {
   "cell_type": "code",
   "execution_count": 9,
   "metadata": {},
   "outputs": [
    {
     "name": "stdout",
     "output_type": "stream",
     "text": [
      "first=PromptTemplate(input_variables=['query'], template='\\n    Você é um especialista em suporte técnico.\\n    Sempre responda às perguntas começando com \"Bem-vindo ao Suporte Técnico\".\\n    Ajude o usuário com seu problema técnico.\\n    Pergunta: {query}\\n    Resposta:\\n    ') last=OpenAI(client=<openai.resources.completions.Completions object at 0x72d0feebb950>, async_client=<openai.resources.completions.AsyncCompletions object at 0x72d0feed0190>, temperature=0.0, openai_api_key=SecretStr('**********'), openai_proxy='')\n"
     ]
    }
   ],
   "source": [
    "#chama a função rote, passando o topico\n",
    "response_chain = route({\"topic\": classification})\n",
    "print(response_chain)"
   ]
  },
  {
   "cell_type": "code",
   "execution_count": 10,
   "metadata": {},
   "outputs": [
    {
     "name": "stdout",
     "output_type": "stream",
     "text": [
      "Bem-vindo ao Suporte Técnico. Para redefinir sua senha, você precisará acessar a página de login e clicar na opção \"Esqueci minha senha\". Em seguida, siga as instruções na tela para redefinir sua senha. Se você tiver problemas durante o processo, não hesite em entrar em contato conosco novamente para obter ajuda adicional.\n"
     ]
    }
   ],
   "source": [
    "#executa o objeto correto\n",
    "response = response_chain.invoke({\"query\": \"Como faço para redefinir minha senha?\"})\n",
    "print(response)"
   ]
  },
  {
   "cell_type": "code",
   "execution_count": 11,
   "metadata": {},
   "outputs": [
    {
     "name": "stdout",
     "output_type": "stream",
     "text": [
      "Bem-vindo ao Suporte Financeiro. Como posso ajudá-lo?\n",
      "    Para pagar uma fatura atrasada, você pode acessar o seu perfil no nosso site e selecionar a opção de pagamento. Lá, você poderá escolher a forma de pagamento e inserir os dados necessários para efetuar o pagamento. Se preferir, também é possível entrar em contato com a nossa central de atendimento e realizar o pagamento por telefone.\n"
     ]
    }
   ],
   "source": [
    "# Exemplo 2 (Assuntos Financeiros)\n",
    "classification = chain.invoke({\"query\": \"Como posso pagar uma fatura atrasada?\"})\n",
    "response_chain = route({\"topic\": classification})\n",
    "response = response_chain.invoke({\"query\": \"Como posso pagar uma fatura atrasada?\"})\n",
    "print(response)"
   ]
  },
  {
   "cell_type": "code",
   "execution_count": 12,
   "metadata": {},
   "outputs": [
    {
     "name": "stdout",
     "output_type": "stream",
     "text": [
      "Bem-vindo ao Suporte de Cadastro. Para alterar seu endereço de e-mail, siga os seguintes passos:\n",
      "    1. Acesse o site da nossa empresa e faça login na sua conta.\n",
      "    2. Clique na opção \"Minha Conta\" ou \"Configurações\".\n",
      "    3. Procure pela opção \"Informações de Contato\" ou \"Dados Pessoais\".\n",
      "    4. Clique em \"Editar\" ou no ícone de lápis ao lado do seu endereço de e-mail atual.\n",
      "    5. Insira o novo endereço de e-mail desejado e clique em \"Salvar\".\n",
      "    Pronto! Seu endereço de e-mail foi atualizado com sucesso. Lembre-se de utilizar esse novo endereço para fazer login na próxima vez que acessar nossa plataforma.\n"
     ]
    }
   ],
   "source": [
    "# Exemplo 3 (Atualização de Cadastro)\n",
    "classification = chain.invoke({\"query\": \"Preciso alterar meu endereço de e-mail.\"})\n",
    "response_chain = route({\"topic\": classification})\n",
    "response = response_chain.invoke({\"query\": \"Preciso alterar meu endereço de e-mail.\"})\n",
    "print(response)"
   ]
  },
  {
   "cell_type": "code",
   "execution_count": 13,
   "metadata": {},
   "outputs": [
    {
     "name": "stdout",
     "output_type": "stream",
     "text": [
      "Bem-vindo ao Suporte Geral. A missão da empresa é fornecer produtos e serviços de alta qualidade para atender às necessidades de nossos clientes e contribuir para o crescimento e sucesso de suas empresas. Nós nos esforçamos para ser uma empresa líder em inovação, sustentabilidade e responsabilidade social.\n"
     ]
    }
   ],
   "source": [
    "# Exemplo 4 (Outras Informações)\n",
    "classification = chain.invoke({\"query\": \"Qual é a missão da empresa?\"})\n",
    "response_chain = route({\"topic\": classification})\n",
    "response = response_chain.invoke({\"query\": \"Qual é a missão da empresa?\"})\n",
    "print(response)"
   ]
  },
  {
   "cell_type": "code",
   "execution_count": null,
   "metadata": {},
   "outputs": [],
   "source": []
  }
 ],
 "metadata": {
  "colab": {
   "provenance": []
  },
  "kernelspec": {
   "display_name": ".venv",
   "language": "python",
   "name": "python3"
  },
  "language_info": {
   "codemirror_mode": {
    "name": "ipython",
    "version": 3
   },
   "file_extension": ".py",
   "mimetype": "text/x-python",
   "name": "python",
   "nbconvert_exporter": "python",
   "pygments_lexer": "ipython3",
   "version": "3.11.9"
  }
 },
 "nbformat": 4,
 "nbformat_minor": 4
}
